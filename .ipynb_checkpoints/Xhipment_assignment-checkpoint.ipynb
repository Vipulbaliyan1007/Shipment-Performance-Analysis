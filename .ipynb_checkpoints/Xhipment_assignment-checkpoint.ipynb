{
 "cells": [
  {
   "cell_type": "markdown",
   "id": "0008435b-6765-4de3-93aa-d4c6f33f1284",
   "metadata": {},
   "source": [
    "## Importing libraries, loading dataset,checking it's info and  removing 341 null values from kind column"
   ]
  },
  {
   "cell_type": "code",
   "execution_count": 44,
   "id": "cc3e577d-7a04-4be4-a6bc-00883415f45e",
   "metadata": {},
   "outputs": [],
   "source": [
    "import numpy as np\n",
    "import pandas as pd\n",
    "from datetime import datetime\n",
    "import json\n",
    "from pandas.tseries.offsets import MonthEnd"
   ]
  },
  {
   "cell_type": "code",
   "execution_count": 2,
   "id": "4adb6af8-9887-4bc0-942e-914bcd163e10",
   "metadata": {},
   "outputs": [],
   "source": [
    "# Loading the dataset\n",
    "df=pd.read_csv('Data Sheet.csv')"
   ]
  },
  {
   "cell_type": "code",
   "execution_count": 3,
   "id": "9184f44a-671c-4073-8ccf-16ec6fda5c06",
   "metadata": {},
   "outputs": [
    {
     "data": {
      "text/html": [
       "<div>\n",
       "<style scoped>\n",
       "    .dataframe tbody tr th:only-of-type {\n",
       "        vertical-align: middle;\n",
       "    }\n",
       "\n",
       "    .dataframe tbody tr th {\n",
       "        vertical-align: top;\n",
       "    }\n",
       "\n",
       "    .dataframe thead th {\n",
       "        text-align: right;\n",
       "    }\n",
       "</style>\n",
       "<table border=\"1\" class=\"dataframe\">\n",
       "  <thead>\n",
       "    <tr style=\"text-align: right;\">\n",
       "      <th></th>\n",
       "      <th>_id</th>\n",
       "      <th>created_at</th>\n",
       "      <th>_v</th>\n",
       "      <th>_fivetran_deleted</th>\n",
       "      <th>milestones</th>\n",
       "      <th>booking_id</th>\n",
       "      <th>updated_at</th>\n",
       "      <th>_fivetran_synced</th>\n",
       "      <th>kind</th>\n",
       "      <th>organization_id</th>\n",
       "      <th>...</th>\n",
       "      <th>status</th>\n",
       "      <th>customer_invoice_no</th>\n",
       "      <th>ticket_status</th>\n",
       "      <th>zendesk_ticket_id</th>\n",
       "      <th>zoho_invoice_status</th>\n",
       "      <th>zoho_estimate_invoice_nos</th>\n",
       "      <th>container_code</th>\n",
       "      <th>flight_number</th>\n",
       "      <th>airline_name</th>\n",
       "      <th>carrier_code</th>\n",
       "    </tr>\n",
       "  </thead>\n",
       "  <tbody>\n",
       "    <tr>\n",
       "      <th>0</th>\n",
       "      <td>63b3b00812fd293bff52248d</td>\n",
       "      <td>2023-01-03 04:33:12.157+00</td>\n",
       "      <td>0</td>\n",
       "      <td>False</td>\n",
       "      <td>[{\"dateTime\":\"2023-01-03T10:25:00Z\",\"details\":...</td>\n",
       "      <td>63b3b00812fd293bff522488</td>\n",
       "      <td>2023-07-20 07:24:41.662+00</td>\n",
       "      <td>2023-07-20 08:18:03.235+00</td>\n",
       "      <td>NaN</td>\n",
       "      <td>NaN</td>\n",
       "      <td>...</td>\n",
       "      <td>NaN</td>\n",
       "      <td>NaN</td>\n",
       "      <td>False</td>\n",
       "      <td>NaN</td>\n",
       "      <td>NaN</td>\n",
       "      <td>NaN</td>\n",
       "      <td>NaN</td>\n",
       "      <td>NaN</td>\n",
       "      <td>NaN</td>\n",
       "      <td>NaN</td>\n",
       "    </tr>\n",
       "    <tr>\n",
       "      <th>1</th>\n",
       "      <td>63b50769ba169e7e19712077</td>\n",
       "      <td>2023-01-04 04:58:17.462+00</td>\n",
       "      <td>0</td>\n",
       "      <td>False</td>\n",
       "      <td>[{\"dateTime\":\"2023-01-01T22:31:00Z\",\"details\":...</td>\n",
       "      <td>63b50769ba169e7e19712072</td>\n",
       "      <td>2023-07-20 07:24:41.732+00</td>\n",
       "      <td>2023-07-20 08:18:03.236+00</td>\n",
       "      <td>NaN</td>\n",
       "      <td>NaN</td>\n",
       "      <td>...</td>\n",
       "      <td>NaN</td>\n",
       "      <td>NaN</td>\n",
       "      <td>False</td>\n",
       "      <td>NaN</td>\n",
       "      <td>NaN</td>\n",
       "      <td>NaN</td>\n",
       "      <td>NaN</td>\n",
       "      <td>NaN</td>\n",
       "      <td>NaN</td>\n",
       "      <td>NaN</td>\n",
       "    </tr>\n",
       "  </tbody>\n",
       "</table>\n",
       "<p>2 rows × 22 columns</p>\n",
       "</div>"
      ],
      "text/plain": [
       "                        _id                  created_at  _v  \\\n",
       "0  63b3b00812fd293bff52248d  2023-01-03 04:33:12.157+00   0   \n",
       "1  63b50769ba169e7e19712077  2023-01-04 04:58:17.462+00   0   \n",
       "\n",
       "   _fivetran_deleted                                         milestones  \\\n",
       "0              False  [{\"dateTime\":\"2023-01-03T10:25:00Z\",\"details\":...   \n",
       "1              False  [{\"dateTime\":\"2023-01-01T22:31:00Z\",\"details\":...   \n",
       "\n",
       "                 booking_id                  updated_at  \\\n",
       "0  63b3b00812fd293bff522488  2023-07-20 07:24:41.662+00   \n",
       "1  63b50769ba169e7e19712072  2023-07-20 07:24:41.732+00   \n",
       "\n",
       "             _fivetran_synced kind organization_id  ... status  \\\n",
       "0  2023-07-20 08:18:03.235+00  NaN             NaN  ...    NaN   \n",
       "1  2023-07-20 08:18:03.236+00  NaN             NaN  ...    NaN   \n",
       "\n",
       "  customer_invoice_no ticket_status zendesk_ticket_id zoho_invoice_status  \\\n",
       "0                 NaN         False               NaN                 NaN   \n",
       "1                 NaN         False               NaN                 NaN   \n",
       "\n",
       "   zoho_estimate_invoice_nos container_code flight_number airline_name  \\\n",
       "0                        NaN            NaN           NaN          NaN   \n",
       "1                        NaN            NaN           NaN          NaN   \n",
       "\n",
       "  carrier_code  \n",
       "0          NaN  \n",
       "1          NaN  \n",
       "\n",
       "[2 rows x 22 columns]"
      ]
     },
     "execution_count": 3,
     "metadata": {},
     "output_type": "execute_result"
    }
   ],
   "source": [
    "# Checking the dataset and it's column \n",
    "df.head(2)"
   ]
  },
  {
   "cell_type": "code",
   "execution_count": 4,
   "id": "ca172426-78ec-41f9-9915-d1b4a3f99565",
   "metadata": {},
   "outputs": [
    {
     "data": {
      "text/plain": [
       "(1964, 22)"
      ]
     },
     "execution_count": 4,
     "metadata": {},
     "output_type": "execute_result"
    }
   ],
   "source": [
    "df.shape"
   ]
  },
  {
   "cell_type": "code",
   "execution_count": 5,
   "id": "4c529a5a-9e32-4e76-89c7-a5148bb7dd16",
   "metadata": {},
   "outputs": [
    {
     "name": "stdout",
     "output_type": "stream",
     "text": [
      "<class 'pandas.core.frame.DataFrame'>\n",
      "RangeIndex: 1964 entries, 0 to 1963\n",
      "Data columns (total 22 columns):\n",
      " #   Column                     Non-Null Count  Dtype  \n",
      "---  ------                     --------------  -----  \n",
      " 0   _id                        1964 non-null   object \n",
      " 1   created_at                 1964 non-null   object \n",
      " 2   _v                         1964 non-null   int64  \n",
      " 3   _fivetran_deleted          1964 non-null   bool   \n",
      " 4   milestones                 1964 non-null   object \n",
      " 5   booking_id                 1964 non-null   object \n",
      " 6   updated_at                 1964 non-null   object \n",
      " 7   _fivetran_synced           1964 non-null   object \n",
      " 8   kind                       1623 non-null   object \n",
      " 9   organization_id            1623 non-null   object \n",
      " 10  quote_identity             1623 non-null   object \n",
      " 11  booking_identity           1623 non-null   object \n",
      " 12  status                     473 non-null    object \n",
      " 13  customer_invoice_no        1503 non-null   object \n",
      " 14  ticket_status              1945 non-null   object \n",
      " 15  zendesk_ticket_id          780 non-null    float64\n",
      " 16  zoho_invoice_status        187 non-null    object \n",
      " 17  zoho_estimate_invoice_nos  187 non-null    object \n",
      " 18  container_code             425 non-null    object \n",
      " 19  flight_number              381 non-null    object \n",
      " 20  airline_name               679 non-null    object \n",
      " 21  carrier_code               393 non-null    object \n",
      "dtypes: bool(1), float64(1), int64(1), object(19)\n",
      "memory usage: 324.3+ KB\n"
     ]
    }
   ],
   "source": [
    "df.info()"
   ]
  },
  {
   "cell_type": "code",
   "execution_count": 6,
   "id": "87a3ebf3-7fed-459b-971f-32bef4a1b4ee",
   "metadata": {},
   "outputs": [
    {
     "data": {
      "text/plain": [
       "_id                             0\n",
       "created_at                      0\n",
       "_v                              0\n",
       "_fivetran_deleted               0\n",
       "milestones                      0\n",
       "booking_id                      0\n",
       "updated_at                      0\n",
       "_fivetran_synced                0\n",
       "kind                          341\n",
       "organization_id               341\n",
       "quote_identity                341\n",
       "booking_identity              341\n",
       "status                       1491\n",
       "customer_invoice_no           461\n",
       "ticket_status                  19\n",
       "zendesk_ticket_id            1184\n",
       "zoho_invoice_status          1777\n",
       "zoho_estimate_invoice_nos    1777\n",
       "container_code               1539\n",
       "flight_number                1583\n",
       "airline_name                 1285\n",
       "carrier_code                 1571\n",
       "dtype: int64"
      ]
     },
     "execution_count": 6,
     "metadata": {},
     "output_type": "execute_result"
    }
   ],
   "source": [
    "# Ckecking the null values present in the dataset\n",
    "df.isnull().sum()"
   ]
  },
  {
   "cell_type": "code",
   "execution_count": 29,
   "id": "dc8a4291-52b1-4165-8bbf-98a8c8b53495",
   "metadata": {},
   "outputs": [],
   "source": [
    "# filtering out all rows in the DataFrame where the 'kind' column has null values, effectively removing incomplete data based on that column.\n",
    "df = df[df['kind'].notnull()]"
   ]
  },
  {
   "cell_type": "code",
   "execution_count": 30,
   "id": "13f80544-8824-48bd-931c-611bf79fe2e2",
   "metadata": {},
   "outputs": [
    {
     "data": {
      "text/plain": [
       "_id                             0\n",
       "created_at                      0\n",
       "_v                              0\n",
       "_fivetran_deleted               0\n",
       "milestones                      0\n",
       "booking_id                      0\n",
       "updated_at                      0\n",
       "_fivetran_synced                0\n",
       "kind                            0\n",
       "organization_id                 0\n",
       "quote_identity                  0\n",
       "booking_identity                0\n",
       "status                       1452\n",
       "customer_invoice_no           237\n",
       "ticket_status                   3\n",
       "zendesk_ticket_id            1097\n",
       "zoho_invoice_status          1473\n",
       "zoho_estimate_invoice_nos    1473\n",
       "container_code               1358\n",
       "flight_number                1267\n",
       "airline_name                  969\n",
       "carrier_code                 1379\n",
       "dtype: int64"
      ]
     },
     "execution_count": 30,
     "metadata": {},
     "output_type": "execute_result"
    }
   ],
   "source": [
    "# Checking if the 341 null values are removed from the column kind\n",
    "df.isnull().sum()"
   ]
  },
  {
   "cell_type": "markdown",
   "id": "61df9b49-00b5-4c7f-b1df-7cd25b4ab208",
   "metadata": {},
   "source": [
    "### Average delivery time for each product type (fcl,lcl, etc) for each month in 2023\n",
    "### tp90 delivery time for each product type (fcl,lcl, etc) for each month in 2023\n",
    "###  No. of customers with at least 1 delivery"
   ]
  },
  {
   "cell_type": "code",
   "execution_count": 47,
   "id": "07822332-2303-4122-95a4-b3bb4bf9b6db",
   "metadata": {},
   "outputs": [
    {
     "name": "stderr",
     "output_type": "stream",
     "text": [
      "C:\\Users\\vipul\\AppData\\Local\\Temp\\ipykernel_19056\\4209534209.py:36: UserWarning: Converting to PeriodArray/Index representation will drop timezone information.\n",
      "  df['Year-Month'] = df['Delivered Date'].dt.to_period('M')\n",
      "C:\\Users\\vipul\\AppData\\Local\\Temp\\ipykernel_19056\\4209534209.py:59: FutureWarning: A value is trying to be set on a copy of a DataFrame or Series through chained assignment using an inplace method.\n",
      "The behavior will change in pandas 3.0. This inplace method will never work because the intermediate object on which we are setting values always behaves as a copy.\n",
      "\n",
      "For example, when doing 'df[col].method(value, inplace=True)', try using 'df.method({col: value}, inplace=True)' or df[col] = df[col].method(value) instead, to perform the operation inplace on the original object.\n",
      "\n",
      "\n",
      "  summary_complete['Average_Delivery_Time'].fillna(0, inplace=True)\n",
      "C:\\Users\\vipul\\AppData\\Local\\Temp\\ipykernel_19056\\4209534209.py:60: FutureWarning: A value is trying to be set on a copy of a DataFrame or Series through chained assignment using an inplace method.\n",
      "The behavior will change in pandas 3.0. This inplace method will never work because the intermediate object on which we are setting values always behaves as a copy.\n",
      "\n",
      "For example, when doing 'df[col].method(value, inplace=True)', try using 'df.method({col: value}, inplace=True)' or df[col] = df[col].method(value) instead, to perform the operation inplace on the original object.\n",
      "\n",
      "\n",
      "  summary_complete['TP90_Delivery_Time'].fillna(0, inplace=True)\n"
     ]
    },
    {
     "name": "stdout",
     "output_type": "stream",
     "text": [
      "Average Delivery Time and TP90 per Product Type per Month (2023 only, with zeros included):\n",
      "   Year-Month                  kind  Average_Delivery_Time  TP90_Delivery_Time\n",
      "0     2023-01          fcl-tracking               0.000000                 0.0\n",
      "1     2023-01  air_freight-tracking               0.000000                 0.0\n",
      "2     2023-01          lcl-tracking               0.000000                 0.0\n",
      "3     2023-01           dd-tracking               0.000000                 0.0\n",
      "4     2023-01     trucking-tracking               0.000000                 0.0\n",
      "5     2023-02          fcl-tracking               0.000000                 0.0\n",
      "6     2023-02  air_freight-tracking               0.000000                 0.0\n",
      "7     2023-02          lcl-tracking               0.000000                 0.0\n",
      "8     2023-02           dd-tracking               0.000000                 0.0\n",
      "9     2023-02     trucking-tracking               0.000000                 0.0\n",
      "10    2023-03          fcl-tracking               0.000000                 0.0\n",
      "11    2023-03  air_freight-tracking               0.000000                 0.0\n",
      "12    2023-03          lcl-tracking               0.000000                 0.0\n",
      "13    2023-03           dd-tracking               0.000000                 0.0\n",
      "14    2023-03     trucking-tracking               0.000000                 0.0\n",
      "15    2023-04          fcl-tracking               0.000000                 0.0\n",
      "16    2023-04  air_freight-tracking               0.000000                 0.0\n",
      "17    2023-04          lcl-tracking               0.000000                 0.0\n",
      "18    2023-04           dd-tracking               0.000000                 0.0\n",
      "19    2023-04     trucking-tracking               0.000000                 0.0\n",
      "20    2023-05          fcl-tracking              60.000000                60.0\n",
      "21    2023-05  air_freight-tracking              25.000000                25.0\n",
      "22    2023-05          lcl-tracking               0.000000                 0.0\n",
      "23    2023-05           dd-tracking              46.000000                51.6\n",
      "24    2023-05     trucking-tracking               0.000000                 0.0\n",
      "25    2023-06          fcl-tracking               0.000000                 0.0\n",
      "26    2023-06  air_freight-tracking              15.714286                22.0\n",
      "27    2023-06          lcl-tracking               0.000000                 0.0\n",
      "28    2023-06           dd-tracking               6.666667                 9.4\n",
      "29    2023-06     trucking-tracking               0.000000                 0.0\n",
      "30    2023-07          fcl-tracking              43.833333                48.0\n",
      "31    2023-07  air_freight-tracking              17.625000                22.9\n",
      "32    2023-07          lcl-tracking              45.583333                49.0\n",
      "33    2023-07           dd-tracking              12.916667                23.4\n",
      "34    2023-07     trucking-tracking               0.000000                 0.0\n",
      "35    2023-08          fcl-tracking              40.473684                42.8\n",
      "36    2023-08  air_freight-tracking              21.563636                29.0\n",
      "37    2023-08          lcl-tracking              45.276596                54.8\n",
      "38    2023-08           dd-tracking              29.666667                40.5\n",
      "39    2023-08     trucking-tracking               0.000000                 0.0\n",
      "40    2023-09          fcl-tracking              36.708333                43.0\n",
      "41    2023-09  air_freight-tracking              17.156863                23.0\n",
      "42    2023-09          lcl-tracking              45.696970                54.0\n",
      "43    2023-09           dd-tracking              19.833333                27.0\n",
      "44    2023-09     trucking-tracking               0.000000                 0.0\n",
      "45    2023-10          fcl-tracking              46.354839                57.0\n",
      "46    2023-10  air_freight-tracking              17.763158                23.0\n",
      "47    2023-10          lcl-tracking              55.956522                74.0\n",
      "48    2023-10           dd-tracking              22.923077                33.0\n",
      "49    2023-10     trucking-tracking               7.000000                 7.0\n",
      "50    2023-11          fcl-tracking              40.592593                46.8\n",
      "51    2023-11  air_freight-tracking              20.107843                27.0\n",
      "52    2023-11          lcl-tracking              54.000000                66.0\n",
      "53    2023-11           dd-tracking              21.900000                31.9\n",
      "54    2023-11     trucking-tracking               0.000000                 0.0\n",
      "55    2023-12          fcl-tracking              40.000000                42.0\n",
      "56    2023-12  air_freight-tracking              20.666667                30.6\n",
      "57    2023-12          lcl-tracking               0.000000                 0.0\n",
      "58    2023-12           dd-tracking              23.800000                30.2\n",
      "59    2023-12     trucking-tracking               0.000000                 0.0\n",
      "\n",
      "Number of customers with at least 1 delivery in 2023:\n",
      "689\n",
      "Results have been saved to delivery_time_summary_2023.xlsx\n"
     ]
    }
   ],
   "source": [
    "# Function to extract the relevant dates from the Milestones column\n",
    "def extract_dates(milestones):\n",
    "    booking_confirmed_date = None\n",
    "    delivery_date = None\n",
    "    \n",
    "    # Parse the JSON milestones column\n",
    "    milestones = json.loads(milestones)\n",
    "    \n",
    "    # Loop through each milestone and extract relevant dates\n",
    "    for milestone in milestones:\n",
    "        if milestone['value'] == 'Booking Confirmed' and milestone['dateTime']:\n",
    "            booking_confirmed_date = milestone['dateTime']\n",
    "        elif milestone['value'] == 'Delivered to Consignee' and milestone['dateTime']:\n",
    "            delivery_date = milestone['dateTime']\n",
    "    \n",
    "    return booking_confirmed_date, delivery_date\n",
    "\n",
    "# Apply the function to extract the relevant dates\n",
    "df[['Booking Confirmed Date', 'Delivered Date']] = df['milestones'].apply(lambda x: pd.Series(extract_dates(x)))\n",
    "\n",
    "# Convert the extracted date strings to datetime format\n",
    "df['Booking Confirmed Date'] = pd.to_datetime(df['Booking Confirmed Date'], errors='coerce', utc=True)\n",
    "df['Delivered Date'] = pd.to_datetime(df['Delivered Date'], errors='coerce', utc=True)\n",
    "\n",
    "# Calculate delivery time in days\n",
    "df['Delivery Time'] = (df['Delivered Date'] - df['Booking Confirmed Date']).dt.days\n",
    "\n",
    "# Filter out records where 'Kind' (product type) is null and where the year is not 2023\n",
    "df = df[df['kind'].notnull()]\n",
    "df = df[df['Delivered Date'].dt.year == 2023]\n",
    "\n",
    "# Filter records where either date is missing (NaT values)\n",
    "df = df.dropna(subset=['Booking Confirmed Date', 'Delivered Date'])\n",
    "\n",
    "# Extract month and year (for grouping) and ensure the data is for 2023\n",
    "df['Year-Month'] = df['Delivered Date'].dt.to_period('M')\n",
    "\n",
    "# Group by Year-Month and Kind (product type) for 2023 data\n",
    "grouped = df.groupby(['Year-Month', 'kind'])\n",
    "\n",
    "# Calculate the average delivery time and tp90 (90th percentile)\n",
    "summary = grouped['Delivery Time'].agg(\n",
    "    Average_Delivery_Time='mean',\n",
    "    TP90_Delivery_Time=lambda x: np.percentile(x, 90)\n",
    ").reset_index()\n",
    "\n",
    "# Create a complete list of all Year-Months for 2023 and all product types (Kind)\n",
    "all_months = pd.period_range('2023-01', '2023-12', freq='M')\n",
    "all_kinds = df['kind'].unique()\n",
    "\n",
    "# Create a MultiIndex DataFrame for every combination of month and product type (Kind)\n",
    "complete_index = pd.MultiIndex.from_product([all_months, all_kinds], names=['Year-Month', 'kind'])\n",
    "complete_df = pd.DataFrame(index=complete_index).reset_index()\n",
    "\n",
    "# Merge the complete month-product combinations with the calculated summary\n",
    "summary_complete = pd.merge(complete_df, summary, on=['Year-Month', 'kind'], how='left')\n",
    "\n",
    "# Fill NaN values in 'Average_Delivery_Time' and 'TP90_Delivery_Time' with 0 where necessary\n",
    "summary_complete['Average_Delivery_Time'].fillna(0, inplace=True)\n",
    "summary_complete['TP90_Delivery_Time'].fillna(0, inplace=True)\n",
    "\n",
    "# Calculate the number of customers with at least 1 delivery in 2023\n",
    "# Assuming 'Customer ID' column is available in the dataset\n",
    "customer_counts = df.groupby('_id').size().reset_index(name='Delivery Count')\n",
    "customer_counts = customer_counts[customer_counts['Delivery Count'] > 0]\n",
    "unique_customers_2023 = customer_counts['_id'].nunique()\n",
    "\n",
    "# Output the results\n",
    "print(\"Average Delivery Time and TP90 per Product Type per Month (2023 only, with zeros included):\")\n",
    "print(summary_complete)\n",
    "\n",
    "print(\"\\nNumber of customers with at least 1 delivery in 2023:\")\n",
    "print(unique_customers_2023)\n",
    "\n",
    "output_file = 'delivery_time_summary_2023.xlsx'\n",
    "\n",
    "with pd.ExcelWriter(output_file, engine='openpyxl') as writer:\n",
    "    summary_complete.to_excel(writer, sheet_name='Delivery Summary', index=False)\n",
    "    customer_counts.to_excel(writer, sheet_name='Customer Counts', index=False)\n",
    "\n",
    "print(f'Results have been saved to {output_file}')"
   ]
  },
  {
   "cell_type": "code",
   "execution_count": 49,
   "id": "e6afb801-973b-416b-92b8-80f461034877",
   "metadata": {},
   "outputs": [
    {
     "name": "stdout",
     "output_type": "stream",
     "text": [
      "Data has been successfully written to 'delivery_summary_2023.xlsx'\n"
     ]
    }
   ],
   "source": [
    "# Save to Excel\n",
    "with pd.ExcelWriter('delivery_summary_2023.xlsx') as writer:\n",
    "    # Save the summary of delivery times\n",
    "    summary_complete_df.to_excel(writer, sheet_name='Delivery_Summary', index=False)\n",
    "    \n",
    "    # Save the number of unique customers\n",
    "    unique_customers_df.to_excel(writer, sheet_name='Unique_Customers', index=False)\n",
    "\n",
    "print(\"Data has been successfully written to 'delivery_summary_2023.xlsx'\")\n"
   ]
  },
  {
   "cell_type": "code",
   "execution_count": null,
   "id": "0d65a6ae-3add-4500-98f5-00109ea115e8",
   "metadata": {},
   "outputs": [],
   "source": []
  }
 ],
 "metadata": {
  "kernelspec": {
   "display_name": "Python 3 (ipykernel)",
   "language": "python",
   "name": "python3"
  },
  "language_info": {
   "codemirror_mode": {
    "name": "ipython",
    "version": 3
   },
   "file_extension": ".py",
   "mimetype": "text/x-python",
   "name": "python",
   "nbconvert_exporter": "python",
   "pygments_lexer": "ipython3",
   "version": "3.12.5"
  }
 },
 "nbformat": 4,
 "nbformat_minor": 5
}
